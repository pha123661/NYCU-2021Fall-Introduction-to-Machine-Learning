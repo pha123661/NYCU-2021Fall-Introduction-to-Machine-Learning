{
 "cells": [
  {
   "cell_type": "markdown",
   "metadata": {},
   "source": [
    "# Assignment #5 - Artificial Neural Networks\n",
    "---\n",
    "## Name: 李勝維\n",
    "## Student ID: 0711239\n",
    "---"
   ]
  },
  {
   "cell_type": "code",
   "execution_count": null,
   "metadata": {},
   "outputs": [],
   "source": [
    "import numpy as np\n",
    "import pandas as pd\n",
    "import matplotlib.pyplot as plt\n",
    "from pytorch_lightning import seed_everything\n",
    "import warnings;warnings.filterwarnings(\"ignore\")\n",
    "%matplotlib inline\n",
    "seed_everything(0)\n",
    "plt.rcParams['figure.dpi'] = 500"
   ]
  },
  {
   "cell_type": "markdown",
   "metadata": {},
   "source": [
    "# Data Input & Data Visualization\n",
    "\n",
    "Use package 'json' to read and 'pandas' to save data  "
   ]
  },
  {
   "cell_type": "code",
   "execution_count": null,
   "metadata": {},
   "outputs": [],
   "source": [
    "import json\n",
    "# Data input\n",
    "with open('2021-nycu-ml-hw5\\\\train.json', 'r') as file:\n",
    "    raw_data = json.load(file)\n",
    "raw_data = [(x['id'], x['cuisine'], x['ingredients']) for x in raw_data]\n",
    "ids, cuisines, ingredientss = zip(*raw_data)\n",
    "df = pd.DataFrame({\n",
    "    'id':ids,\n",
    "    'cuisine':cuisines,\n",
    "    'ingredients':ingredientss,\n",
    "})"
   ]
  },
  {
   "cell_type": "markdown",
   "metadata": {},
   "source": [
    "# Data Preprocessing"
   ]
  },
  {
   "cell_type": "code",
   "execution_count": null,
   "metadata": {},
   "outputs": [],
   "source": [
    "from sklearn.preprocessing import LabelEncoder\n",
    "\n",
    "# Shuffle data\n",
    "df = df.sample(frac=1, random_state=0)\n",
    "\n",
    "# Encode Y\n",
    "y_encoder = LabelEncoder()\n",
    "df['cuisine'] = y_encoder.fit_transform(df['cuisine'])\n",
    "y = df['cuisine'].values.astype(np.longlong)"
   ]
  }
 ],
 "metadata": {
  "interpreter": {
   "hash": "63fd5069d213b44bf678585dea6b12cceca9941eaf7f819626cde1f2670de90d"
  },
  "kernelspec": {
   "display_name": "Python 3.9.6 64-bit",
   "name": "python3"
  },
  "language_info": {
   "codemirror_mode": {
    "name": "ipython",
    "version": 3
   },
   "file_extension": ".py",
   "mimetype": "text/x-python",
   "name": "python",
   "nbconvert_exporter": "python",
   "pygments_lexer": "ipython3",
   "version": "3.9.9"
  }
 },
 "nbformat": 4,
 "nbformat_minor": 4
}
