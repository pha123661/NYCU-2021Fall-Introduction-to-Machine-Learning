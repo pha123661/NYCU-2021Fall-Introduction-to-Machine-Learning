{
 "cells": [
  {
   "cell_type": "markdown",
   "metadata": {},
   "source": [
    "# Program Assignment #3 - K-means clustering & Support Vector Machine\n",
    "---\n",
    "\n",
    "## Name: 李勝維\n",
    "## Student ID: 0711239\n",
    "---"
   ]
  },
  {
   "cell_type": "code",
   "execution_count": 256,
   "metadata": {},
   "outputs": [],
   "source": [
    "import numpy as np\n",
    "import pandas as pd\n",
    "import matplotlib.pyplot as plt\n",
    "%matplotlib inline\n",
    "np.random.seed(0)"
   ]
  },
  {
   "cell_type": "markdown",
   "metadata": {},
   "source": [
    "# Data input & Data Preprocessing"
   ]
  },
  {
   "cell_type": "code",
   "execution_count": 257,
   "metadata": {},
   "outputs": [
    {
     "name": "stdout",
     "output_type": "stream",
     "text": [
      "['b' 'g']\n"
     ]
    }
   ],
   "source": [
    "from sklearn.preprocessing import LabelEncoder\n",
    "# Wheat Seeds Dataset\n",
    "import csv\n",
    "# remove duplicate '\\t's\n",
    "with open(\"data/seeds_dataset.txt\") as f:\n",
    "    rows = list(csv.reader(f, delimiter=\"\\t\"))\n",
    "    for row in rows:\n",
    "        try:\n",
    "            while True:\n",
    "                row.remove(\"\")\n",
    "        except ValueError:\n",
    "            pass\n",
    "        row = [float(x) for x in row]\n",
    "wheat_raw_data = np.array(rows, dtype=np.float32)\n",
    "np.random.shuffle(wheat_raw_data) # shuffle data\n",
    "wheat_x, wheat_y = wheat_raw_data[..., :-1], wheat_raw_data[..., -1]\n",
    "wheat_y = (wheat_y-1).astype(np.int32)\n",
    "\n",
    "# Ionosphere Dataset\n",
    "ion_raw_data = pd.read_csv(\"data/ionosphere.data\").values\n",
    "np.random.shuffle(ion_raw_data) # shuffle data\n",
    "ion_x, ion_y = ion_raw_data[..., :-1].astype(np.float32), ion_raw_data[..., -1]\n",
    "ion_y_encoder = LabelEncoder() # transform 'g' -> 1, 'b' -> 0\n",
    "ion_y = ion_y_encoder.fit_transform(ion_y)"
   ]
  },
  {
   "cell_type": "markdown",
   "metadata": {},
   "source": [
    "# K-means Clustering"
   ]
  },
  {
   "cell_type": "code",
   "execution_count": 258,
   "metadata": {},
   "outputs": [],
   "source": [
    "# K = 3\n",
    "MAX_ITERATIONS = 1000\n",
    "centers = wheat_x[np.random.randint(wheat_x.shape[0], size=3)]\n",
    "for _ in range(MAX_ITERATIONS):\n",
    "    # assignment step\n",
    "    sets = [[] for _ in range(3)] # 3 empty sets\n",
    "    for i, sample in enumerate(wheat_x):\n",
    "        dist = [np.sum((sample - c)**2) for c in centers] # calculates distance to centers\n",
    "        sets[np.argmin(dist)].append(i) # belongs to the set with minimum distance\n",
    "    \n",
    "    # update step\n",
    "    centers = list()\n",
    "    for i, set in enumerate(sets):\n",
    "        point_set = wheat_x[set] # \"set\" stores only index\n",
    "        centroid = np.mean(point_set, axis=0) # get center of mass for each set\n",
    "        centers.append(centroid)\n",
    "\n",
    "# get label by voting\n",
    "KMEANS_centers = [None]*3\n",
    "for i, set in enumerate(sets):\n",
    "    labels = wheat_y[set]\n",
    "    counts = np.bincount(labels)\n",
    "    KMEANS_centers[np.argmax(counts)] = centers[i]\n",
    "\n",
    "# utility for predicting\n",
    "def KMeans_prediction(x):\n",
    "    # x.shape = (sample, feature)\n",
    "    ans = list()\n",
    "    for sample in x:\n",
    "        dist = [np.sum((sample - c)**2) for c in KMEANS_centers]\n",
    "        ans.append(np.argmin(dist))\n",
    "    return np.array(ans, dtype=np.int32)\n",
    "\n",
    "# print(KMeans_prediction(wheat_x))\n",
    "\n",
    "# from sklearn.cluster import KMeans\n",
    "# K = KMeans(3, random_state=0)\n",
    "# K.fit(wheat_x)\n",
    "# print(K.predict(wheat_x))\n",
    "# print(wheat_y)"
   ]
  }
 ],
 "metadata": {
  "interpreter": {
   "hash": "63fd5069d213b44bf678585dea6b12cceca9941eaf7f819626cde1f2670de90d"
  },
  "kernelspec": {
   "display_name": "Python 3.9.6 64-bit",
   "name": "python3"
  },
  "language_info": {
   "codemirror_mode": {
    "name": "ipython",
    "version": 3
   },
   "file_extension": ".py",
   "mimetype": "text/x-python",
   "name": "python",
   "nbconvert_exporter": "python",
   "pygments_lexer": "ipython3",
   "version": "3.9.6"
  }
 },
 "nbformat": 4,
 "nbformat_minor": 4
}
