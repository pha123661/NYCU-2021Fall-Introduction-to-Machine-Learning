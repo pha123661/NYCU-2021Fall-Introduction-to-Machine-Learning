{
 "cells": [
  {
   "cell_type": "markdown",
   "metadata": {},
   "source": [
    "# Program Assignment #3 - K-means clustering & Support Vector Machine\n",
    "---\n",
    "\n",
    "## Name: 李勝維\n",
    "## Student ID: 0711239\n",
    "---"
   ]
  },
  {
   "cell_type": "code",
   "execution_count": 321,
   "metadata": {},
   "outputs": [],
   "source": [
    "import numpy as np\n",
    "import pandas as pd\n",
    "import matplotlib.pyplot as plt\n",
    "%matplotlib inline\n",
    "np.random.seed(0)"
   ]
  },
  {
   "cell_type": "markdown",
   "metadata": {},
   "source": [
    "# Data input & Data Preprocessing"
   ]
  },
  {
   "cell_type": "code",
   "execution_count": 322,
   "metadata": {},
   "outputs": [],
   "source": [
    "from sklearn.preprocessing import LabelEncoder\n",
    "# Wheat Seeds Dataset\n",
    "import csv\n",
    "# remove duplicate '\\t's\n",
    "with open(\"data/seeds_dataset.txt\") as f:\n",
    "    rows = list(csv.reader(f, delimiter=\"\\t\"))\n",
    "    for row in rows:\n",
    "        try:\n",
    "            while True:\n",
    "                row.remove(\"\")\n",
    "        except ValueError:\n",
    "            pass\n",
    "        row = [float(x) for x in row]\n",
    "wheat_raw_data = np.array(rows, dtype=np.float32)\n",
    "# shuffle data\n",
    "np.random.shuffle(wheat_raw_data)\n",
    "wheat_x, wheat_y = wheat_raw_data[..., :-1], wheat_raw_data[..., -1]\n",
    "wheat_y = (wheat_y-1).astype(np.int32)\n",
    "\n",
    "# Ionosphere Dataset\n",
    "ion_raw_data = pd.read_csv(\"data/ionosphere.data\").values\n",
    "# shuffle data\n",
    "np.random.shuffle(ion_raw_data)\n",
    "ion_x, ion_y = ion_raw_data[..., :-1].astype(np.float32), ion_raw_data[..., -1]\n",
    "ion_y_encoder = LabelEncoder() # transform 'g' -> 1, 'b' -> 0\n",
    "ion_y = ion_y_encoder.fit_transform(ion_y)"
   ]
  },
  {
   "cell_type": "markdown",
   "metadata": {},
   "source": [
    "# K-means Clustering"
   ]
  },
  {
   "cell_type": "code",
   "execution_count": 323,
   "metadata": {},
   "outputs": [],
   "source": [
    "# K = 3\n",
    "MAX_ITERATIONS = 1000\n",
    "centers = wheat_x[np.random.randint(wheat_x.shape[0], size=3)]\n",
    "\n",
    "for _ in range(MAX_ITERATIONS):\n",
    "    # assignment step\n",
    "    sets = [[] for _ in range(3)] # 3 empty sets\n",
    "    for i, sample in enumerate(wheat_x):\n",
    "        dist = [np.sum((sample - c)**2) for c in centers] # calculates distance to centers\n",
    "        sets[np.argmin(dist)].append(i) # belongs to the set with minimum distance\n",
    "    \n",
    "    # update step\n",
    "    centers = list()\n",
    "    for i, set in enumerate(sets):\n",
    "        point_set = wheat_x[set] # \"set\" stores only index\n",
    "        centroid = np.mean(point_set, axis=0) # get center of mass for each set\n",
    "        centers.append(centroid)\n",
    "\n",
    "# get label by voting\n",
    "KMEANS_centers = [None]*3\n",
    "for i, set in enumerate(sets):\n",
    "    labels = wheat_y[set]\n",
    "    counts = np.bincount(labels)\n",
    "    KMEANS_centers[np.argmax(counts)] = centers[i]\n",
    "\n",
    "# utility for predicting\n",
    "def KMeans_prediction(KMEANS_centers, x):\n",
    "    # x.shape = (sample, feature)\n",
    "    ans = list()\n",
    "    for sample in x:\n",
    "        dist = [np.sum((sample - c)**2) for c in KMEANS_centers]\n",
    "        ans.append(np.argmin(dist))\n",
    "    return np.array(ans, dtype=np.int32)"
   ]
  },
  {
   "cell_type": "markdown",
   "metadata": {},
   "source": [
    "# Support Vector Machine + Parameter Search"
   ]
  },
  {
   "cell_type": "code",
   "execution_count": 324,
   "metadata": {},
   "outputs": [
    {
     "name": "stdout",
     "output_type": "stream",
     "text": [
      "for kernel = poly\n",
      "╒══════════╤═══════════╤══════════╤═════════╤══════════════════════════════════╕\n",
      "│   poly # │     gamma │   degree │   coef0 │   average performance (accuracy) │\n",
      "╞══════════╪═══════════╪══════════╪═════════╪══════════════════════════════════╡\n",
      "│        1 │ 0.0333333 │        2 │     0   │                         0.787755 │\n",
      "├──────────┼───────────┼──────────┼─────────┼──────────────────────────────────┤\n",
      "│        2 │ 0.0333333 │        2 │     0.5 │                         0.865306 │\n",
      "├──────────┼───────────┼──────────┼─────────┼──────────────────────────────────┤\n",
      "│        3 │ 0.0333333 │        2 │     1.5 │                         0.873469 │\n",
      "├──────────┼───────────┼──────────┼─────────┼──────────────────────────────────┤\n",
      "│        4 │ 0.0333333 │        3 │     0   │                         0.673469 │\n",
      "├──────────┼───────────┼──────────┼─────────┼──────────────────────────────────┤\n",
      "│        5 │ 0.0333333 │        3 │     0.5 │                         0.869388 │\n",
      "├──────────┼───────────┼──────────┼─────────┼──────────────────────────────────┤\n",
      "│        6 │ 0.0333333 │        3 │     1.5 │                         0.869388 │\n",
      "├──────────┼───────────┼──────────┼─────────┼──────────────────────────────────┤\n",
      "│        7 │ 0.0333333 │        4 │     0   │                         0.673469 │\n",
      "├──────────┼───────────┼──────────┼─────────┼──────────────────────────────────┤\n",
      "│        8 │ 0.0333333 │        4 │     0.5 │                         0.869388 │\n",
      "├──────────┼───────────┼──────────┼─────────┼──────────────────────────────────┤\n",
      "│        9 │ 0.0333333 │        4 │     1.5 │                         0.861224 │\n",
      "├──────────┼───────────┼──────────┼─────────┼──────────────────────────────────┤\n",
      "│       10 │ 0.0285714 │        2 │     0   │                         0.706122 │\n",
      "├──────────┼───────────┼──────────┼─────────┼──────────────────────────────────┤\n",
      "│       11 │ 0.0285714 │        2 │     0.5 │                         0.861224 │\n",
      "├──────────┼───────────┼──────────┼─────────┼──────────────────────────────────┤\n",
      "│       12 │ 0.0285714 │        2 │     1.5 │                         0.865306 │\n",
      "├──────────┼───────────┼──────────┼─────────┼──────────────────────────────────┤\n",
      "│       13 │ 0.0285714 │        3 │     0   │                         0.673469 │\n",
      "├──────────┼───────────┼──────────┼─────────┼──────────────────────────────────┤\n",
      "│       14 │ 0.0285714 │        3 │     0.5 │                         0.869388 │\n",
      "├──────────┼───────────┼──────────┼─────────┼──────────────────────────────────┤\n",
      "│       15 │ 0.0285714 │        3 │     1.5 │                         0.873469 │\n",
      "├──────────┼───────────┼──────────┼─────────┼──────────────────────────────────┤\n",
      "│       16 │ 0.0285714 │        4 │     0   │                         0.673469 │\n",
      "├──────────┼───────────┼──────────┼─────────┼──────────────────────────────────┤\n",
      "│       17 │ 0.0285714 │        4 │     0.5 │                         0.869388 │\n",
      "├──────────┼───────────┼──────────┼─────────┼──────────────────────────────────┤\n",
      "│       18 │ 0.0285714 │        4 │     1.5 │                         0.865306 │\n",
      "├──────────┼───────────┼──────────┼─────────┼──────────────────────────────────┤\n",
      "│       19 │ 0.025     │        2 │     0   │                         0.677551 │\n",
      "├──────────┼───────────┼──────────┼─────────┼──────────────────────────────────┤\n",
      "│       20 │ 0.025     │        2 │     0.5 │                         0.861224 │\n",
      "├──────────┼───────────┼──────────┼─────────┼──────────────────────────────────┤\n",
      "│       21 │ 0.025     │        2 │     1.5 │                         0.861224 │\n",
      "├──────────┼───────────┼──────────┼─────────┼──────────────────────────────────┤\n",
      "│       22 │ 0.025     │        3 │     0   │                         0.673469 │\n",
      "├──────────┼───────────┼──────────┼─────────┼──────────────────────────────────┤\n",
      "│       23 │ 0.025     │        3 │     0.5 │                         0.865306 │\n",
      "├──────────┼───────────┼──────────┼─────────┼──────────────────────────────────┤\n",
      "│       24 │ 0.025     │        3 │     1.5 │                         0.869388 │\n",
      "├──────────┼───────────┼──────────┼─────────┼──────────────────────────────────┤\n",
      "│       25 │ 0.025     │        4 │     0   │                         0.673469 │\n",
      "├──────────┼───────────┼──────────┼─────────┼──────────────────────────────────┤\n",
      "│       26 │ 0.025     │        4 │     0.5 │                         0.865306 │\n",
      "├──────────┼───────────┼──────────┼─────────┼──────────────────────────────────┤\n",
      "│       27 │ 0.025     │        4 │     1.5 │                         0.869388 │\n",
      "╘══════════╧═══════════╧══════════╧═════════╧══════════════════════════════════╛\n",
      "\n",
      "for kernel = rbf\n",
      "╒═════════╤═══════════╤══════════════════════════════════╕\n",
      "│   rbf # │     gamma │   average performance (accuracy) │\n",
      "╞═════════╪═══════════╪══════════════════════════════════╡\n",
      "│       1 │ 0.1       │                         0.938776 │\n",
      "├─────────┼───────────┼──────────────────────────────────┤\n",
      "│       2 │ 0.0285714 │                         0.914286 │\n",
      "├─────────┼───────────┼──────────────────────────────────┤\n",
      "│       3 │ 0.025     │                         0.897959 │\n",
      "╘═════════╧═══════════╧══════════════════════════════════╛\n"
     ]
    }
   ],
   "source": [
    "from sklearn.model_selection import train_test_split, KFold\n",
    "from sklearn.svm import SVC\n",
    "from tabulate import tabulate\n",
    "whole_x_train, whole_x_test, whole_y_train, whole_y_test = train_test_split(ion_x, ion_y, test_size=0.3, random_state=0)\n",
    "\n",
    "# function for parameter search\n",
    "def test_hparam(kernel, gamma, degree=0, coef0=0):\n",
    "    kf = KFold(n_splits=5)\n",
    "    # for sdf in kf.split(x)\n",
    "    model = SVC(kernel=kernel, degree=degree, gamma=gamma, coef0=coef0, random_state=0)\n",
    "    accs=list()\n",
    "    for train_idx, test_idx in kf.split(whole_x_train):\n",
    "        x_train, x_test, y_train, y_test = whole_x_train[train_idx], whole_x_train[test_idx], whole_y_train[train_idx], whole_y_train[test_idx]\n",
    "        model.fit(x_train, y_train)\n",
    "        accs.append(model.score(x_test, y_test))\n",
    "    acc = sum(accs)/len(accs)\n",
    "    if kernel=='poly':\n",
    "        return gamma, degree, coef0, acc\n",
    "    else:\n",
    "        return gamma, acc\n",
    "\n",
    "# parameter search\n",
    "print(\"for kernel = poly\")\n",
    "kernel = 'poly'\n",
    "counter = 1\n",
    "table_header = ['poly #', 'gamma', 'degree', 'coef0', 'average performance (accuracy)']\n",
    "table_data = list()\n",
    "for gamma in (1/30, 1/35, 1/40):\n",
    "    for degree in (2, 3, 4):\n",
    "        for coef0 in (0.0, 0.5, 1.5):\n",
    "            table_data.append([counter, *test_hparam(kernel, gamma, degree, coef0)])\n",
    "            counter += 1\n",
    "print(tabulate(table_data, table_header, tablefmt='fancy_grid'))\n",
    "# best setting = gamma: 0.03, degree: 2, coef0: 1.5\n",
    "\n",
    "print(\"\\nfor kernel = rbf\")\n",
    "kernel = 'rbf'\n",
    "counter = 1\n",
    "table_header = ['rbf #', 'gamma', 'average performance (accuracy)']\n",
    "table_data = list()\n",
    "for gamma in (1/10, 1/35, 1/40):\n",
    "    table_data.append([counter, *test_hparam(kernel=kernel, gamma=gamma)])\n",
    "    counter += 1\n",
    "print(tabulate(table_data, table_header, tablefmt='fancy_grid'))\n",
    "# best setting =  gamma: 0.1"
   ]
  },
  {
   "cell_type": "markdown",
   "metadata": {},
   "source": [
    "We've obtained the best settings for each kernel:  \n",
    "* poly: gamma: 0.03, degree: 2, coef0: 1.5  \n",
    "* rbf: gamma: 0.1\n",
    "\n",
    "Then, we construct different models with its best hyperparameter setting"
   ]
  },
  {
   "cell_type": "code",
   "execution_count": 325,
   "metadata": {},
   "outputs": [],
   "source": [
    "# model construction\n",
    "linear_svm = SVC(kernel='linear', random_state=0)\n",
    "poly_svm = SVC(kernel='poly',gamma=0.03, degree=2, coef0=1.5, random_state=0)\n",
    "rbf_svm = SVC(kernel='rbf', gamma=0.1, random_state=0)"
   ]
  },
  {
   "cell_type": "markdown",
   "metadata": {},
   "source": [
    "# Results - K means"
   ]
  },
  {
   "cell_type": "code",
   "execution_count": 326,
   "metadata": {},
   "outputs": [
    {
     "name": "stdout",
     "output_type": "stream",
     "text": [
      "for K means:\n",
      "╒═══════════╤════════════╤══════════╤═════════════╕\n",
      "│ Metrics   │   Accuracy │   Recall │   Precision │\n",
      "╞═══════════╪════════════╪══════════╪═════════════╡\n",
      "│ label 1   │   0.890476 │ 0.814286 │    0.850746 │\n",
      "├───────────┼────────────┼──────────┼─────────────┤\n",
      "│ label 2   │   0.890476 │ 0.857143 │    0.983607 │\n",
      "├───────────┼────────────┼──────────┼─────────────┤\n",
      "│ label 3   │   0.890476 │ 1        │    0.853659 │\n",
      "╘═══════════╧════════════╧══════════╧═════════════╛\n",
      "╒════════════════════╤═══════════╤═══════════╤═══════════╕\n",
      "│ Confusion matrix   │   label 1 │   label 2 │   label 3 │\n",
      "╞════════════════════╪═══════════╪═══════════╪═══════════╡\n",
      "│ label 1            │        57 │         1 │        12 │\n",
      "├────────────────────┼───────────┼───────────┼───────────┤\n",
      "│ label 2            │        10 │        60 │         0 │\n",
      "├────────────────────┼───────────┼───────────┼───────────┤\n",
      "│ label 3            │         0 │         0 │        70 │\n",
      "╘════════════════════╧═══════════╧═══════════╧═══════════╛\n",
      "accuracy: 0.890476, average recall: 0.890476, average precision: 0.896004\n"
     ]
    }
   ],
   "source": [
    "from sklearn.metrics import confusion_matrix, accuracy_score, recall_score, precision_score\n",
    "def show_multiclass_score(y_pred, y_test, y_label, silent=False):\n",
    "    # shows metrics for each class\n",
    "    table_data = list()\n",
    "    table_header = []\n",
    "    accuracy = accuracy_score(y_test, y_pred)\n",
    "    recalls = recall_score(y_test, y_pred, average=None)\n",
    "    precisions = precision_score(y_test, y_pred, average=None)\n",
    "    table_header = ['Metrics', 'Accuracy', 'Recall', 'Precision']\n",
    "    for name, recall, precision in zip(y_label, recalls, precisions):\n",
    "        table_data.append([name,accuracy, recall, precision])\n",
    "    if not silent:\n",
    "        print(tabulate(table_data, table_header, tablefmt='fancy_grid'))\n",
    "\n",
    "    return accuracy_score(y_test, y_pred), recall_score(y_test, y_pred, average='macro'), precision_score(y_test, y_pred, average='macro')\n",
    "\n",
    "print(\"for K means:\")\n",
    "y_pred = KMeans_prediction(KMEANS_centers, wheat_x)\n",
    "acc, recall, pres = show_multiclass_score(y_pred, wheat_y, ['label 1', 'label 2', 'label 3'])\n",
    "c_m = confusion_matrix(wheat_y, y_pred)\n",
    "table_data = list()\n",
    "table_header = ['Confusion matrix', 'label 1', 'label 2', 'label 3']\n",
    "for idx, row in enumerate(c_m):\n",
    "    table_data.append([table_header[idx+1], *row])\n",
    "print(tabulate(table_data, table_header, tablefmt='fancy_grid'))\n",
    "print(f\"accuracy: {acc:4f}, average recall: {recall:4f}, average precision: {pres:4f}\")"
   ]
  },
  {
   "cell_type": "markdown",
   "metadata": {},
   "source": [
    "# Results - SVM"
   ]
  },
  {
   "cell_type": "code",
   "execution_count": 327,
   "metadata": {},
   "outputs": [
    {
     "name": "stdout",
     "output_type": "stream",
     "text": [
      "for SVMs: \n",
      "linear_svm:\n",
      "╒═══════════╤════════════╤══════════╤═════════════╕\n",
      "│ Metrics   │   Accuracy │   Recall │   Precision │\n",
      "╞═══════════╪════════════╪══════════╪═════════════╡\n",
      "│ b         │   0.904762 │ 0.782609 │    1        │\n",
      "├───────────┼────────────┼──────────┼─────────────┤\n",
      "│ g         │   0.904762 │ 1        │    0.855072 │\n",
      "╘═══════════╧════════════╧══════════╧═════════════╛\n",
      "╒════════════════════╤═════╤═════╕\n",
      "│ Confusion matrix   │   b │   g │\n",
      "╞════════════════════╪═════╪═════╡\n",
      "│ b                  │  36 │  10 │\n",
      "├────────────────────┼─────┼─────┤\n",
      "│ g                  │   0 │  59 │\n",
      "╘════════════════════╧═════╧═════╛\n",
      "accuracy: 0.904762, average recall: 0.891304, average precision: 0.927536\n",
      "\n",
      "poly_svm:\n",
      "╒═══════════╤════════════╤══════════╤═════════════╕\n",
      "│ Metrics   │   Accuracy │   Recall │   Precision │\n",
      "╞═══════════╪════════════╪══════════╪═════════════╡\n",
      "│ b         │   0.885714 │  0.73913 │    1        │\n",
      "├───────────┼────────────┼──────────┼─────────────┤\n",
      "│ g         │   0.885714 │  1       │    0.830986 │\n",
      "╘═══════════╧════════════╧══════════╧═════════════╛\n",
      "╒════════════════════╤═════╤═════╕\n",
      "│ Confusion matrix   │   b │   g │\n",
      "╞════════════════════╪═════╪═════╡\n",
      "│ b                  │  34 │  12 │\n",
      "├────────────────────┼─────┼─────┤\n",
      "│ g                  │   0 │  59 │\n",
      "╘════════════════════╧═════╧═════╛\n",
      "accuracy: 0.885714, average recall: 0.869565, average precision: 0.915493\n",
      "\n",
      "rbf_svm:\n",
      "╒═══════════╤════════════╤══════════╤═════════════╕\n",
      "│ Metrics   │   Accuracy │   Recall │   Precision │\n",
      "╞═══════════╪════════════╪══════════╪═════════════╡\n",
      "│ b         │   0.942857 │ 0.869565 │    1        │\n",
      "├───────────┼────────────┼──────────┼─────────────┤\n",
      "│ g         │   0.942857 │ 1        │    0.907692 │\n",
      "╘═══════════╧════════════╧══════════╧═════════════╛\n",
      "╒════════════════════╤═════╤═════╕\n",
      "│ Confusion matrix   │   b │   g │\n",
      "╞════════════════════╪═════╪═════╡\n",
      "│ b                  │  40 │   6 │\n",
      "├────────────────────┼─────┼─────┤\n",
      "│ g                  │   0 │  59 │\n",
      "╘════════════════════╧═════╧═════╛\n",
      "accuracy: 0.942857, average recall: 0.934783, average precision: 0.953846\n",
      "\n"
     ]
    }
   ],
   "source": [
    "print(\"for SVMs: \")\n",
    "for name, svm in zip(['linear_svm', 'poly_svm', 'rbf_svm'], [linear_svm, poly_svm, rbf_svm]):\n",
    "    print(f\"{name}:\")\n",
    "    svm.fit(whole_x_train, whole_y_train)\n",
    "    y_pred = svm.predict(whole_x_test)\n",
    "    acc, recall, pres = show_multiclass_score(y_pred, whole_y_test, ['b', 'g'])\n",
    "    c_m = confusion_matrix(whole_y_test, y_pred)\n",
    "    table_data = list()\n",
    "    table_header = ['Confusion matrix', 'b', 'g']\n",
    "    for idx, row in enumerate(c_m):\n",
    "        table_data.append([table_header[idx+1], *row])\n",
    "    print(tabulate(table_data, table_header, tablefmt='fancy_grid'))\n",
    "    print(f\"accuracy: {acc:4f}, average recall: {recall:4f}, average precision: {pres:4f}\", end='\\n\\n')"
   ]
  },
  {
   "cell_type": "markdown",
   "metadata": {},
   "source": [
    "# Comparison & Conclusion\n",
    "透過自己實作K-means，練習了蠻多實作上的小細節；而在測試不同種的SVM的超參數設定，也讓我對於kernel function的影響有更多的想法"
   ]
  },
  {
   "cell_type": "markdown",
   "metadata": {},
   "source": [
    "# Questions\n",
    "## K-means Clustering: Choose two features to execute your K-means function and draw a scatter plot with the computed centers and the predicted label for each instance."
   ]
  },
  {
   "cell_type": "code",
   "execution_count": 328,
   "metadata": {},
   "outputs": [
    {
     "data": {
      "image/png": "[encoded data removed]",
      "text/plain": [
       "<Figure size 432x288 with 1 Axes>"
      ]
     },
     "metadata": {
      "needs_background": "light"
     },
     "output_type": "display_data"
    }
   ],
   "source": [
    "# using PCA to reduce dimension to 2 \n",
    "from sklearn.decomposition import PCA\n",
    "pca = PCA(2)\n",
    "wheat_x = pca.fit_transform(wheat_x)\n",
    "# K = 3\n",
    "MAX_ITERATIONS = 1000\n",
    "centers = wheat_x[np.random.randint(wheat_x.shape[0], size=3)]\n",
    "\n",
    "for _ in range(MAX_ITERATIONS):\n",
    "    # assignment step\n",
    "    sets = [[] for _ in range(3)] # 3 empty sets\n",
    "    for i, sample in enumerate(wheat_x):\n",
    "        dist = [np.sum((sample - c)**2) for c in centers] # calculates distance to centers\n",
    "        sets[np.argmin(dist)].append(i) # belongs to the set with minimum distance\n",
    "    \n",
    "    # update step\n",
    "    centers = list()\n",
    "    for i, set in enumerate(sets):\n",
    "        point_set = wheat_x[set] # \"set\" stores only index\n",
    "        centroid = np.mean(point_set, axis=0) # get center of mass for each set\n",
    "        centers.append(centroid)\n",
    "\n",
    "# get label by voting\n",
    "KMEANS_centers = [None]*3\n",
    "for i, set in enumerate(sets):\n",
    "    labels = wheat_y[set]\n",
    "    counts = np.bincount(labels)\n",
    "    KMEANS_centers[np.argmax(counts)] = centers[i]\n",
    "\n",
    "# plot points\n",
    "plt.figure()\n",
    "cmap = ['tab:blue', 'tab:orange', 'tab:green']\n",
    "labels = ['predicted label 1', 'predicted label 2', 'predicted label 3']\n",
    "sets = [sets[2], sets[0], sets[1]] # order by label\n",
    "for c, set, label in zip(cmap, sets, labels): \n",
    "    plt.scatter(wheat_x[set, 0], wheat_x[set, 1], c=c, label=label)\n",
    "\n",
    "# plot center\n",
    "cmap = ['blue', 'orange', 'green']\n",
    "labels = ['center 1', 'center 2', 'center 3']\n",
    "for c, center, label in zip(cmap, KMEANS_centers, labels):\n",
    "    plt.scatter(*center, s=12**2 , c=c)\n",
    "plt.title(\"K means clustering\\nThe biggest points are centers\")\n",
    "plt.legend()\n",
    "plt.show()"
   ]
  },
  {
   "cell_type": "markdown",
   "metadata": {},
   "source": [
    "## Support Vector Machine: Show the average performance of K-fold cross-validation of parameter search in tables for each kernel.  \n",
    "Shown above."
   ]
  }
 ],
 "metadata": {
  "interpreter": {
   "hash": "63fd5069d213b44bf678585dea6b12cceca9941eaf7f819626cde1f2670de90d"
  },
  "kernelspec": {
   "display_name": "Python 3.9.6 64-bit",
   "name": "python3"
  },
  "language_info": {
   "codemirror_mode": {
    "name": "ipython",
    "version": 3
   },
   "file_extension": ".py",
   "mimetype": "text/x-python",
   "name": "python",
   "nbconvert_exporter": "python",
   "pygments_lexer": "ipython3",
   "version": "3.9.6"
  }
 },
 "nbformat": 4,
 "nbformat_minor": 4
}
