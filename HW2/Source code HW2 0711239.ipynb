{
 "cells": [
  {
   "cell_type": "markdown",
   "metadata": {},
   "source": [
    "# Program Assignment #2 - \n",
    "# Decision Tree & Random Forest & KNN & PCA\n",
    "---\n",
    "\n",
    "## Name: 李勝維\n",
    "## Student ID: 0711239\n",
    "\n",
    "---"
   ]
  },
  {
   "cell_type": "code",
   "execution_count": 87,
   "metadata": {},
   "outputs": [],
   "source": [
    "import numpy as np\n",
    "import pandas as pd\n",
    "import matplotlib.pyplot as plt\n",
    "%matplotlib inline\n",
    "np.random.seed(0)"
   ]
  },
  {
   "cell_type": "markdown",
   "metadata": {},
   "source": [
    "# Load data"
   ]
  },
  {
   "cell_type": "code",
   "execution_count": 88,
   "metadata": {},
   "outputs": [],
   "source": [
    "from sklearn.preprocessing import OneHotEncoder\n",
    "# load data\n",
    "raw_data = pd.read_csv(\"data/student-mat.csv\", sep=\";\").values\n",
    "\n",
    "# shuffle data\n",
    "np.random.shuffle(raw_data)\n",
    "x, y = raw_data[..., :-1], raw_data[..., -1, None]\n",
    "Categorical_Features = [0, 1, 3, 4, 5, 8, 9, 10, 11, 15, 16, 17, 18, 19, 20, 21, 22]\n",
    "Numerical_Features = [2, 6, 7, 12, 13, 14, 23, 24, 25, 26, 27, 28, 29, 30, 31]\n",
    "\n",
    "# transform x to one-hot\n",
    "x_encoder = OneHotEncoder(sparse=False)\n",
    "x_cat = x_encoder.fit_transform(x[..., Categorical_Features])\n",
    "x_num = x[..., Numerical_Features]\n",
    "x = np.hstack((x_cat, x_num))"
   ]
  },
  {
   "cell_type": "markdown",
   "metadata": {},
   "source": [
    "# Principal components analysis\n",
    "transforms training set and test set based on training set"
   ]
  },
  {
   "cell_type": "code",
   "execution_count": null,
   "metadata": {},
   "outputs": [],
   "source": [
    "from sklearn.decomposition import PCA\n",
    "def pca_transform(train, test, k=10):\n",
    "    pca = PCA(n_components=k)\n",
    "    train = pca.fit_transform(train)\n",
    "    test = pca.transform(test)\n",
    "    return train, test"
   ]
  },
  {
   "cell_type": "markdown",
   "metadata": {},
   "source": [
    "# Model Construction\n",
    "Algorithm behind:  \n",
    "DecisionTreeClassifier from sklearn.tree uses CART (Classification and Regression Trees) algorithm, which is similar to C4.5 algorithm, but it supports numerical value (regression) and constructs binary trees using feature and its threshold which yields the largest information gain at each node."
   ]
  },
  {
   "cell_type": "code",
   "execution_count": null,
   "metadata": {},
   "outputs": [],
   "source": [
    "from sklearn.tree import DecisionTreeClassifier\n",
    "from sklearn.ensemble import RandomForestClassifier\n",
    "from sklearn.neighbors import KNeighborsClassifier\n",
    "DTclf = DecisionTreeClassifier(random_state=0)\n",
    "RFclfs = [ # with different size of trees\n",
    "    RandomForestClassifier(random_state=0, n_estimators=4),\n",
    "    RandomForestClassifier(random_state=0, n_estimators=8),\n",
    "    RandomForestClassifier(random_state=0, n_estimators=16)\n",
    "]\n",
    "KNNclfs =[ # with different k's\n",
    "    KNeighborsClassifier(n_neighbors=3),\n",
    "    KNeighborsClassifier(n_neighbors=5),\n",
    "    KNeighborsClassifier(n_neighbors=7),\n",
    "]"
   ]
  },
  {
   "cell_type": "markdown",
   "metadata": {},
   "source": [
    "# Results"
   ]
  },
  {
   "cell_type": "code",
   "execution_count": null,
   "metadata": {},
   "outputs": [],
   "source": [
    "# part 1 compare with / without PCA on three kinds of model"
   ]
  }
 ],
 "metadata": {
  "interpreter": {
   "hash": "63fd5069d213b44bf678585dea6b12cceca9941eaf7f819626cde1f2670de90d"
  },
  "kernelspec": {
   "display_name": "Python 3.9.6 64-bit",
   "name": "python3"
  },
  "language_info": {
   "codemirror_mode": {
    "name": "ipython",
    "version": 3
   },
   "file_extension": ".py",
   "mimetype": "text/x-python",
   "name": "python",
   "nbconvert_exporter": "python",
   "pygments_lexer": "ipython3",
   "version": "3.9.6"
  }
 },
 "nbformat": 4,
 "nbformat_minor": 4
}
